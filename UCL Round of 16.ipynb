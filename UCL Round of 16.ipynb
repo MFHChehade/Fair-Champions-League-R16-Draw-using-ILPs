{
 "cells": [
  {
   "cell_type": "markdown",
   "metadata": {},
   "source": [
    "# UCL Round of 16 Draw: An Integer Linear Programming Approach\n",
    "## Mohamad Chehade"
   ]
  },
  {
   "cell_type": "code",
   "execution_count": 18,
   "metadata": {},
   "outputs": [],
   "source": [
    "import pandas as pd\n",
    "import pulp as pl"
   ]
  },
  {
   "cell_type": "code",
   "execution_count": 19,
   "metadata": {},
   "outputs": [],
   "source": [
    "g = 8 # number of groups\n",
    "n = 8 # number of matches "
   ]
  },
  {
   "cell_type": "code",
   "execution_count": 20,
   "metadata": {},
   "outputs": [
    {
     "data": {
      "text/html": [
       "<div>\n",
       "<style scoped>\n",
       "    .dataframe tbody tr th:only-of-type {\n",
       "        vertical-align: middle;\n",
       "    }\n",
       "\n",
       "    .dataframe tbody tr th {\n",
       "        vertical-align: top;\n",
       "    }\n",
       "\n",
       "    .dataframe thead th {\n",
       "        text-align: right;\n",
       "    }\n",
       "</style>\n",
       "<table border=\"1\" class=\"dataframe\">\n",
       "  <thead>\n",
       "    <tr style=\"text-align: right;\">\n",
       "      <th></th>\n",
       "      <th>Leader</th>\n",
       "      <th>Leader Rating</th>\n",
       "      <th>Leader Country</th>\n",
       "      <th>Runner-up</th>\n",
       "      <th>Runner-up Rating</th>\n",
       "      <th>Runner-up Country</th>\n",
       "    </tr>\n",
       "  </thead>\n",
       "  <tbody>\n",
       "    <tr>\n",
       "      <td>0</td>\n",
       "      <td>Napoli</td>\n",
       "      <td>3549</td>\n",
       "      <td>Italy</td>\n",
       "      <td>Liverpool</td>\n",
       "      <td>4065</td>\n",
       "      <td>England</td>\n",
       "    </tr>\n",
       "    <tr>\n",
       "      <td>1</td>\n",
       "      <td>Porto</td>\n",
       "      <td>3439</td>\n",
       "      <td>Portugal</td>\n",
       "      <td>Club Brugge</td>\n",
       "      <td>2671</td>\n",
       "      <td>Belgium</td>\n",
       "    </tr>\n",
       "    <tr>\n",
       "      <td>2</td>\n",
       "      <td>Bayern Munich</td>\n",
       "      <td>4201</td>\n",
       "      <td>Germany</td>\n",
       "      <td>Inter Milan</td>\n",
       "      <td>3552</td>\n",
       "      <td>Italy</td>\n",
       "    </tr>\n",
       "    <tr>\n",
       "      <td>3</td>\n",
       "      <td>Tottenham Hotspur</td>\n",
       "      <td>3439</td>\n",
       "      <td>England</td>\n",
       "      <td>Eintracht Frankfurt</td>\n",
       "      <td>3231</td>\n",
       "      <td>Germany</td>\n",
       "    </tr>\n",
       "    <tr>\n",
       "      <td>4</td>\n",
       "      <td>Chelsea</td>\n",
       "      <td>3603</td>\n",
       "      <td>England</td>\n",
       "      <td>Milan</td>\n",
       "      <td>3349</td>\n",
       "      <td>Italy</td>\n",
       "    </tr>\n",
       "  </tbody>\n",
       "</table>\n",
       "</div>"
      ],
      "text/plain": [
       "              Leader  Leader Rating Leader Country            Runner-up  \\\n",
       "0             Napoli           3549          Italy            Liverpool   \n",
       "1              Porto           3439       Portugal          Club Brugge   \n",
       "2      Bayern Munich           4201        Germany          Inter Milan   \n",
       "3  Tottenham Hotspur           3439        England  Eintracht Frankfurt   \n",
       "4            Chelsea           3603        England                Milan   \n",
       "\n",
       "   Runner-up Rating Runner-up Country  \n",
       "0              4065           England  \n",
       "1              2671           Belgium  \n",
       "2              3552             Italy  \n",
       "3              3231           Germany  \n",
       "4              3349             Italy  "
      ]
     },
     "execution_count": 20,
     "metadata": {},
     "output_type": "execute_result"
    }
   ],
   "source": [
    "df = pd.read_excel (r'UCL Round of 16 Teams.xlsx')\n",
    "df = df.drop(columns = \"Group\")\n",
    "df.head()"
   ]
  },
  {
   "cell_type": "code",
   "execution_count": 21,
   "metadata": {},
   "outputs": [],
   "source": [
    "# create the two dictionaries for countries\n",
    " \n",
    "D_leader = {}\n",
    "D_runner_up = {}\n",
    "\n",
    "for ind in df.index:\n",
    "    element = df[\"Leader Country\"][ind]\n",
    "    value = df[\"Leader\"][ind]\n",
    "    if element in D_leader:\n",
    "        D_leader[element].append(value)\n",
    "    else:\n",
    "        D_leader[element] = [value]\n",
    "\n",
    "for ind in df.index:\n",
    "    element = df[\"Runner-up Country\"][ind]\n",
    "    value = df[\"Runner-up\"][ind]\n",
    "    if element in D_runner_up:\n",
    "        D_runner_up[element].append(value)\n",
    "    else:\n",
    "        D_runner_up[element] = [value]   "
   ]
  },
  {
   "cell_type": "code",
   "execution_count": 22,
   "metadata": {},
   "outputs": [],
   "source": [
    "# create the two arrays for ratings\n",
    "\n",
    "ratings_leader = df[\"Leader Rating\"].tolist()\n",
    "ratings_runner_up = df[\"Runner-up Rating\"].tolist()"
   ]
  },
  {
   "cell_type": "code",
   "execution_count": 23,
   "metadata": {},
   "outputs": [],
   "source": [
    "# create the optimization problem with the decision variables \n",
    "\n",
    "m = pl.LpProblem('UCL Round of 16 Draw', pl.LpMinimize)\n",
    "\n",
    "teams = range(g)\n",
    "matches = range(n)\n",
    "\n",
    "x = pl.LpVariable.dicts(name=\"Leader\", indices=(teams,matches),cat='Binary')\n",
    "y = pl.LpVariable.dicts(name=\"RunnerUp\", indices=(teams,matches),cat='Binary')\n",
    "\n",
    "z = pl.LpVariable.dicts(name=\"Match_Sum\", indices=(matches),lowBound=0, cat='Continuous')\n",
    "U = pl.LpVariable.dicts(name=\"U\", indices=(matches),lowBound=0, cat='Continuous')\n",
    "\n",
    "z_bar = pl.LpVariable(name=\"Matches_Average\", cat='Continuous')\n"
   ]
  },
  {
   "cell_type": "code",
   "execution_count": 24,
   "metadata": {},
   "outputs": [],
   "source": [
    "# objective function\n",
    "\n",
    "m += ( pl.lpSum([U[j] for j in matches]), 'Total Error') ;"
   ]
  },
  {
   "cell_type": "code",
   "execution_count": 25,
   "metadata": {},
   "outputs": [],
   "source": [
    "# absolute value constraints\n",
    "\n",
    "for j in matches:\n",
    "    m += (z_bar - z[j] <= U[j])\n",
    "    m += (z_bar - z[j] >= - U[j])"
   ]
  },
  {
   "cell_type": "code",
   "execution_count": 26,
   "metadata": {},
   "outputs": [],
   "source": [
    "# define the variable z, the sum of the two ratings of a match\n",
    "\n",
    "for j in matches:\n",
    "    m += (z[j] == pl.lpSum(ratings_leader[i]*x[i][j] for i in teams) + pl.lpSum(ratings_runner_up[i]*y[i][j] for i in teams) )"
   ]
  },
  {
   "cell_type": "code",
   "execution_count": 27,
   "metadata": {},
   "outputs": [],
   "source": [
    "# define the variable z_bar, the average of all sums z \n",
    "\n",
    "m += (z_bar == 1/n * (pl.lpSum(z[j] for j in matches)))"
   ]
  },
  {
   "cell_type": "code",
   "execution_count": 28,
   "metadata": {},
   "outputs": [],
   "source": [
    "# one leader and one runner-up in each match \n",
    "\n",
    "for j in matches:\n",
    "    m += (pl.lpSum(x[i][j] for i in teams)==1) # leader\n",
    "    m += (pl.lpSum(y[i][j] for i in teams)==1) # runner_up"
   ]
  },
  {
   "cell_type": "code",
   "execution_count": 29,
   "metadata": {},
   "outputs": [],
   "source": [
    "# each team plays in one match only\n",
    "\n",
    "for i in teams:\n",
    "    m += (pl.lpSum(x[i][j] for j in matches)==1) # leader\n",
    "    m += (pl.lpSum(y[i][j] for j in matches)==1) # runner_up "
   ]
  },
  {
   "cell_type": "code",
   "execution_count": 30,
   "metadata": {},
   "outputs": [],
   "source": [
    "# teams from the same group cannot face each other\n",
    "\n",
    "for j in matches:\n",
    "    for i in teams:\n",
    "        m += (x[i][j] + y[i][j] <= 1)"
   ]
  },
  {
   "cell_type": "code",
   "execution_count": 31,
   "metadata": {},
   "outputs": [],
   "source": [
    "# teams from the same country cannot face each other\n",
    "\n",
    "for j in matches:\n",
    "    for element in D_leader:\n",
    "        if element in D_runner_up:\n",
    "            s = 0\n",
    "            for k in range (len(D_leader[element])):\n",
    "                for l in range (len(D_runner_up[element])):\n",
    "                    m += x[k][j]+y[l][j] <=1"
   ]
  },
  {
   "cell_type": "code",
   "execution_count": 32,
   "metadata": {},
   "outputs": [
    {
     "data": {
      "text/plain": [
       "'Optimal'"
      ]
     },
     "execution_count": 32,
     "metadata": {},
     "output_type": "execute_result"
    }
   ],
   "source": [
    "# solve\n",
    "\n",
    "status = m.solve()\n",
    "pl.LpStatus[status]"
   ]
  },
  {
   "cell_type": "code",
   "execution_count": 33,
   "metadata": {},
   "outputs": [],
   "source": [
    "# store results \n",
    "\n",
    "D_matches = {}\n",
    "\n",
    "for v in m.variables():\n",
    "    \n",
    "    if v.varValue>=1:\n",
    "    \n",
    "        indicator = v.name[0]\n",
    "        if indicator==\"L\" or indicator[0]==\"R\":\n",
    "            keys = v.name.split(\"_\")\n",
    "            group = int(keys[1])\n",
    "            match = int(keys[2])\n",
    "\n",
    "            if indicator == \"L\":\n",
    "                team = df[\"Leader\"][group]    \n",
    "            else: \n",
    "                team = df[\"Runner-up\"][group]\n",
    "\n",
    "            if match in D_matches:\n",
    "                D_matches[match].append(team)\n",
    "            else:\n",
    "                D_matches[match] = [team]"
   ]
  },
  {
   "cell_type": "code",
   "execution_count": 34,
   "metadata": {},
   "outputs": [
    {
     "name": "stdout",
     "output_type": "stream",
     "text": [
      "Napoli vs RB Leipzig\n",
      "Porto vs Paris Saint-Germain\n",
      "Bayern Munich vs Milan\n",
      "Tottenham Hotspur vs Inter Milan\n",
      "Chelsea vs Borussia Dortmund\n",
      "Real Madrid vs Eintracht Frankfurt\n",
      "Manchester City vs Club Brugge\n",
      "Benfica vs Liverpool\n"
     ]
    }
   ],
   "source": [
    "for element in D_matches:\n",
    "    print(D_matches[element][0],\"vs\",D_matches[element][1])"
   ]
  }
 ],
 "metadata": {
  "kernelspec": {
   "display_name": "Python 3",
   "language": "python",
   "name": "python3"
  },
  "language_info": {
   "codemirror_mode": {
    "name": "ipython",
    "version": 3
   },
   "file_extension": ".py",
   "mimetype": "text/x-python",
   "name": "python",
   "nbconvert_exporter": "python",
   "pygments_lexer": "ipython3",
   "version": "3.7.4"
  }
 },
 "nbformat": 4,
 "nbformat_minor": 2
}
